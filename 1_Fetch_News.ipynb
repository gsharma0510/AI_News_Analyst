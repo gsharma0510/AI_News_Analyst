{
 "cells": [
  {
   "cell_type": "code",
   "execution_count": 12,
   "id": "4c9848c7",
   "metadata": {},
   "outputs": [],
   "source": [
    "import feedparser\n",
    "import requests\n",
    "import time\n",
    "from datetime import datetime\n",
    "from urllib.parse import urlparse, parse_qs, unquote, quote_plus\n",
    "import hashlib\n",
    "import re\n",
    "import json"
   ]
  },
  {
   "cell_type": "code",
   "execution_count": 2,
   "id": "9663730d",
   "metadata": {},
   "outputs": [],
   "source": [
    "def get_bing_news_rss(topic, max_articles=5):\n",
    "    query = quote_plus(topic)\n",
    "    rss_url = f\"https://www.bing.com/news/search?q={query}&format=rss\"\n",
    "    feed = feedparser.parse(rss_url)\n",
    "\n",
    "    articles = []\n",
    "    seen = set()\n",
    "\n",
    "    for entry in feed.entries:\n",
    "        match = re.search(r'url=(https?%3[a-zA-Z0-9%._\\-\\/]+)', entry.link)\n",
    "        if not match:\n",
    "            continue\n",
    "        url = re.sub(r'%3a', ':', match.group(1), flags=re.IGNORECASE)\n",
    "        url = re.sub(r'%2f', '/', url, flags=re.IGNORECASE)\n",
    "        if url in seen:\n",
    "            continue\n",
    "        seen.add(url)\n",
    "        articles.append({\n",
    "            \"title\": entry.title,\n",
    "            \"url\": url,\n",
    "            \"published_at\": entry.get(\"published\", \"\"),\n",
    "            \"source\": \"Bing\",\n",
    "            \"topic\": topic\n",
    "        })\n",
    "        if len(articles) >= max_articles:\n",
    "            break\n",
    "    return articles"
   ]
  },
  {
   "cell_type": "code",
   "execution_count": 3,
   "id": "5a9a3bfc",
   "metadata": {},
   "outputs": [],
   "source": [
    "def get_yahoo_news_rss(topic, max_articles=5):\n",
    "    query = quote_plus(topic)\n",
    "    rss_url = f\"https://news.search.yahoo.com/rss?p={query}\"\n",
    "    feed = feedparser.parse(rss_url)\n",
    "\n",
    "    articles = []\n",
    "    seen = set()\n",
    "\n",
    "    for entry in feed.entries:\n",
    "        url = entry.link\n",
    "        if url in seen:\n",
    "            continue\n",
    "        seen.add(url)\n",
    "        articles.append({\n",
    "            \"title\": entry.title,\n",
    "            \"url\": url,\n",
    "            \"published_at\": entry.get(\"published\", \"\"),\n",
    "            \"source\": \"Yahoo\",\n",
    "            \"topic\": topic\n",
    "        })\n",
    "        if len(articles) >= max_articles:\n",
    "            break\n",
    "    return articles"
   ]
  },
  {
   "cell_type": "code",
   "execution_count": 4,
   "id": "b7198bfd",
   "metadata": {},
   "outputs": [],
   "source": [
    "def fetch_articles_for_topic(topic, max_articles=10):\n",
    "    # Prefer Bing first\n",
    "    bing_articles = get_bing_news_rss(topic, max_articles)\n",
    "    remaining = max_articles - len(bing_articles)\n",
    "    yahoo_articles = get_yahoo_news_rss(topic, remaining) if remaining > 0 else []\n",
    "\n",
    "    combined = bing_articles + yahoo_articles\n",
    "\n",
    "    # Deduplicate based on URL\n",
    "    seen_urls = set()\n",
    "    deduped = []\n",
    "    for art in combined:\n",
    "        if art[\"url\"] not in seen_urls:\n",
    "            deduped.append(art)\n",
    "            seen_urls.add(art[\"url\"])\n",
    "\n",
    "    print(f\"\\n🔍 Topic: {topic}\")\n",
    "    print(f\"✅ Articles fetched (deduplicated): {len(deduped)}\\n\")\n",
    "    for i, art in enumerate(deduped, 1):\n",
    "        print(f\"{i}. {art['title']}\\n🔗 {art['url']}\\n📰 Source: {art['source']} | 📅 {art['published_at']} | 📌 Topic: {art['topic']}\\n\")\n",
    "\n",
    "    return deduped"
   ]
  },
  {
   "cell_type": "code",
   "execution_count": 9,
   "id": "659cf8e7",
   "metadata": {
    "scrolled": true
   },
   "outputs": [
    {
     "name": "stdout",
     "output_type": "stream",
     "text": [
      "\n",
      "🔍 Topic: tech\n",
      "✅ Articles fetched (deduplicated): 10\n",
      "\n",
      "1. Five Keys To Helping Traditional Businesses Embrace New Tech\n",
      "🔗 https://www.forbes.com/councils/forbestechcouncil/2025/06/25/five-keys-to-helping-traditional-businesses-embrace-new-tech/\n",
      "📰 Source: Bing | 📅 Wed, 25 Jun 2025 04:30:00 GMT | 📌 Topic: tech\n",
      "\n",
      "2. Feds wasted millions on tech to detect fentanyl at the border, report finds\n",
      "🔗 https://www.usatoday.com/story/news/politics/2025/06/25/feds-wasted-money-border-technology-fentanyl/84287735007/\n",
      "📰 Source: Bing | 📅 Wed, 25 Jun 2025 15:36:00 GMT | 📌 Topic: tech\n",
      "\n",
      "3. This Experimental Tech Allows Surgeons to See Through Blood\n",
      "🔗 https://gizmodo.com/this-experimental-tech-allows-surgeons-to-see-through-blood-2000620162\n",
      "📰 Source: Bing | 📅 Wed, 25 Jun 2025 08:40:00 GMT | 📌 Topic: tech\n",
      "\n",
      "4. Texas Tech Shooting: What We Know\n",
      "🔗 https://www.msn.com/en-us/news/crime/texas-tech-shooting-what-we-know/ar-AA1HkjAR\n",
      "📰 Source: Bing | 📅 Tue, 24 Jun 2025 08:59:00 GMT | 📌 Topic: tech\n",
      "\n",
      "5. Tech stocks power Nasdaq 100 to a record high as markets celebrate the Israel-Iran ceasefire\n",
      "🔗 https://www.msn.com/en-us/money/markets/tech-stocks-power-nasdaq-100-to-a-record-high-as-markets-celebrate-the-israel-iran-ceasefire/ar-AA1HkLOI\n",
      "📰 Source: Bing | 📅 Wed, 25 Jun 2025 00:55:51 GMT | 📌 Topic: tech\n",
      "\n",
      "6. Inside Kelly Services Tech And AI Journey With CIO Sean Perry\n",
      "🔗 https://www.forbes.com/sites/peterhigh/2025/06/25/inside-kelly-services-tech-and-ai-journey-with-cio-sean-perry/\n",
      "📰 Source: Bing | 📅 Wed, 25 Jun 2025 12:00:00 GMT | 📌 Topic: tech\n",
      "\n",
      "7. Intel, Walmart, other tech companies reveal 500-plus Bay Area job cuts\n",
      "🔗 https://www.mercurynews.com/2025/06/24/economy-tech-jobs-layoff-intel-walmart-work-south-bay-chip-internet/\n",
      "📰 Source: Bing | 📅 Tue, 24 Jun 2025 20:40:00 GMT | 📌 Topic: tech\n",
      "\n",
      "8. Looking For Sustainable Tech? This New Repairable Phone May Be For You\n",
      "🔗 https://www.pcmag.com/news/looking-for-sustainable-tech-this-new-repairable-phone-may-be-for-you\n",
      "📰 Source: Bing | 📅 Wed, 25 Jun 2025 04:39:00 GMT | 📌 Topic: tech\n",
      "\n",
      "9. Hackathon teams race to solve defense tech challenges as Europe boosts military capabilities\n",
      "🔗 https://www.msn.com/en-us/news/world/hackathon-teams-race-to-solve-defense-tech-challenges-as-europe-boosts-military-capabilities/ar-AA1Hnufz\n",
      "📰 Source: Bing | 📅 Wed, 25 Jun 2025 00:42:00 GMT | 📌 Topic: tech\n",
      "\n",
      "10. The Palace of Versailles wants you to talk to statues through OpenAI's tech. But the statues don't seem that interested in chatting.\n",
      "🔗 https://www.msn.com/en-us/news/other/the-palace-of-versailles-wants-you-to-talk-to-statues-through-openais-tech-but-the-statues-dont-seem-that-interested-in-chatting/ar-AA1HnLf5\n",
      "📰 Source: Bing | 📅 Wed, 25 Jun 2025 02:59:48 GMT | 📌 Topic: tech\n",
      "\n"
     ]
    }
   ],
   "source": [
    "# Example usage:\n",
    "topics = [\"tech\"]\n",
    "all_articles = []\n",
    "for t in topics:\n",
    "    arts = fetch_articles_for_topic(t, max_articles=10)\n",
    "    all_articles.extend(arts)"
   ]
  },
  {
   "cell_type": "code",
   "execution_count": 13,
   "id": "f69e7074",
   "metadata": {},
   "outputs": [
    {
     "name": "stdout",
     "output_type": "stream",
     "text": [
      "✅ Saved to resolved_articles.json\n"
     ]
    }
   ],
   "source": [
    "# Save to resolved_articles.json\n",
    "with open(\"resolved_articles.json\", \"w\", encoding=\"utf-8\") as f:\n",
    "    json.dump(all_articles, f, indent=2, ensure_ascii=False)\n",
    "\n",
    "print(\"✅ Saved to resolved_articles.json\")"
   ]
  },
  {
   "cell_type": "code",
   "execution_count": 16,
   "id": "7ceddbaf",
   "metadata": {},
   "outputs": [
    {
     "name": "stdout",
     "output_type": "stream",
     "text": [
      "✅ Loaded 10 articles from JSON.\n",
      "\n",
      "1. Five Keys To Helping Traditional Businesses Embrace New Tech\n",
      "🔗 https://www.forbes.com/councils/forbestechcouncil/2025/06/25/five-keys-to-helping-traditional-businesses-embrace-new-tech/\n",
      "📅 Wed, 25 Jun 2025 04:30:00 GMT\n",
      "📌 Topic: tech | 📰 Source: Bing\n",
      "\n",
      "2. Feds wasted millions on tech to detect fentanyl at the border, report finds\n",
      "🔗 https://www.usatoday.com/story/news/politics/2025/06/25/feds-wasted-money-border-technology-fentanyl/84287735007/\n",
      "📅 Wed, 25 Jun 2025 15:36:00 GMT\n",
      "📌 Topic: tech | 📰 Source: Bing\n",
      "\n",
      "3. This Experimental Tech Allows Surgeons to See Through Blood\n",
      "🔗 https://gizmodo.com/this-experimental-tech-allows-surgeons-to-see-through-blood-2000620162\n",
      "📅 Wed, 25 Jun 2025 08:40:00 GMT\n",
      "📌 Topic: tech | 📰 Source: Bing\n",
      "\n",
      "4. Texas Tech Shooting: What We Know\n",
      "🔗 https://www.msn.com/en-us/news/crime/texas-tech-shooting-what-we-know/ar-AA1HkjAR\n",
      "📅 Tue, 24 Jun 2025 08:59:00 GMT\n",
      "📌 Topic: tech | 📰 Source: Bing\n",
      "\n",
      "5. Tech stocks power Nasdaq 100 to a record high as markets celebrate the Israel-Iran ceasefire\n",
      "🔗 https://www.msn.com/en-us/money/markets/tech-stocks-power-nasdaq-100-to-a-record-high-as-markets-celebrate-the-israel-iran-ceasefire/ar-AA1HkLOI\n",
      "📅 Wed, 25 Jun 2025 00:55:51 GMT\n",
      "📌 Topic: tech | 📰 Source: Bing\n"
     ]
    }
   ],
   "source": [
    "# ✅ Load and preview resolved articles\n",
    "try:\n",
    "    with open(\"resolved_articles.json\", \"r\", encoding=\"utf-8\") as f:\n",
    "        data = json.load(f)\n",
    "\n",
    "    print(f\"✅ Loaded {len(data)} articles from JSON.\")\n",
    "\n",
    "    # Preview first few articles\n",
    "    for i, item in enumerate(data[:5]):\n",
    "        print(f\"\\n{i+1}. {item.get('title', '[No Title]')}\")\n",
    "        print(f\"🔗 {item.get('url', '[No URL]')}\")\n",
    "        print(f\"📅 {item.get('published_at', '[No Date]')}\")\n",
    "        print(f\"📌 Topic: {item.get('topic', '[No Topic]')} | 📰 Source: {item.get('source', '[No Source]')}\")\n",
    "\n",
    "except FileNotFoundError:\n",
    "    print(\"❌ File 'resolved_articles.json' not found.\")\n",
    "except json.JSONDecodeError:\n",
    "    print(\"❌ Error decoding JSON. Check file format.\")\n"
   ]
  },
  {
   "cell_type": "code",
   "execution_count": null,
   "id": "2bfc3a0f",
   "metadata": {},
   "outputs": [],
   "source": []
  }
 ],
 "metadata": {
  "kernelspec": {
   "display_name": "Python 3 (ipykernel)",
   "language": "python",
   "name": "python3"
  },
  "language_info": {
   "codemirror_mode": {
    "name": "ipython",
    "version": 3
   },
   "file_extension": ".py",
   "mimetype": "text/x-python",
   "name": "python",
   "nbconvert_exporter": "python",
   "pygments_lexer": "ipython3",
   "version": "3.11.4"
  }
 },
 "nbformat": 4,
 "nbformat_minor": 5
}
